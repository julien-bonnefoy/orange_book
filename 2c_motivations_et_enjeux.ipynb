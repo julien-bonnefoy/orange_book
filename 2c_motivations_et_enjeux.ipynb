{
 "cells": [
  {
   "cell_type": "markdown",
   "metadata": {
    "heading_collapsed": true
   },
   "source": [
    "# MOTIVATIONS  ET ENJEUX\n"
   ]
  },
  {
   "cell_type": "markdown",
   "metadata": {
    "hidden": true
   },
   "source": [
    "Il faut absolument développer l'utilisation d'Orange Learning et ne pas se cantonner à une utilisation 'imposée' Orange Learning est peut-être tro perçu comme un moyen de contrôle plutôt qu'une source de connnaissance.\n",
    "\n",
    "Quoiqu'il en soit, la plateforme est sous utilisée \n",
    "\n",
    "Tout ce qui touche Orange Learning est avant tout **un enjeu financier** au regard de l'obligation de patricipation à la formation de chaque entreprise en France.\n",
    "\n",
    "Selon l'estimation (ci-dessous), le \"budget \" FORMATION \" d'Orange en France est de 22 302 500 € pour l'exercice 2019.\n",
    "22 millions d'euros à invertir obligatoirement dans le développement professionnel de ses salariés. C'est colossal. La rentabilité est prioritaire et à aujourd'hui, Orange Learning est sous utilisé par les salariés"
   ]
  },
  {
   "cell_type": "markdown",
   "metadata": {
    "heading_collapsed": true,
    "hidden": true
   },
   "source": [
    "## TAUX de la CONTRIBUTION FORMATION"
   ]
  },
  {
   "cell_type": "markdown",
   "metadata": {
    "hidden": true
   },
   "source": [
    "(extrtait)\n",
    "\n",
    "b- Taux de la contribution\n",
    "\n",
    "    Taux de cotisation pour la formation professionnelle continue\n",
    "    \n",
    "| Effectif moyen de l'entreprise | Taux de cotisation (entreprises générales) | Taux de cotisation (entreprises de travail temporaire) |\n",
    "| ------------------------------ | ------------------------------------------ | ------------------------------------------------------ |\n",
    "|      Jusqu'à 10 salariés       |                  0,55 %                    |                          0,55 %                        |\n",
    "|    À partir de 11 salariés     |                    1 %                     |                           1,3 %                        |\n",
    "\n",
    "<p style='font-size: 12px;'>Certaines branches professionnelles peuvent fixer des taux supérieurs.</p>\n",
    "\n",
    "c -Lissage en cas de franchissement des seuils d'effectifs\n",
    "\n",
    "L'application de taux spécifiques permet de lisser la hausse de la contribution en cas de franchissement du seuil de 10 salariés.  \n",
    "\n",
    "\n",
    "    Taux applicable en cas de franchissement de seuils\n",
    "    \n",
    "| Passage à 11 salariés                               |  Année N  | Année N+1 | Année N+2 | Année n-3 | Année N-4 | Année N+5 |\n",
    "| --------------------------------------------------- | ------- - | --------- | --------- | --------- | --------- | --------- |\n",
    "| Taux applicable (entreprises générales)             |   0,55 %  |   0,55 %  |   0,55 %  |   0,70 %  |   0,90 %  |    1 %    |\n",
    "| Taux applicable (entreprises de travail temporaire) |   0,55 %  |   0,55 %  |   0,55 %  |   1,30 %  |   1,30 %  |   1,30 %  |\n",
    "\n",
    "<p style='font-size: 10px;'>Attention : le lissage ne s'applique pas si l'accroissement de l'effectif résulte de la reprise ou de l'absorption d'une entreprise ayant employé au moins 11 salariés au cours de l'une des 3 années précédentes. Dans ce cas, le passage au taux de 1 % s'applique dès l'année durant laquelle l'effectif de 10 salariés est atteint ou dépassé.  </p>  \n",
    "  "
   ]
  },
  {
   "cell_type": "markdown",
   "metadata": {
    "heading_collapsed": true,
    "hidden": true
   },
   "source": [
    "## MASSE SALARIALE"
   ]
  },
  {
   "cell_type": "markdown",
   "metadata": {
    "hidden": true
   },
   "source": [
    "<p style='font-size: 14px;'>Extrait du Rapport financier annuel 2019, p 297</p>  \n",
    "\n",
    "...  \n",
    "Personnel<p style='font-size: 10px;'>(en millions d’euros, sauf les effectifs)</p> \n",
    "\n",
    "|                                                               |  2019   |  2018   |  2017   |  2016   |  2015 |\n",
    "| ------------------------------------------------------------- | ------- | ------- | ------- | ------- | ----- |\n",
    "| Effectif moyen pendant l’exercice (équivalent temps plein)    |   66755 |   68871 |   72098 |   76301 | 80741 |\n",
    "| Montant de la masse salariale de l’exercice                   |    4055 |    4155 |    4184 |    4222 |  4277 |\n",
    "| Montant des sommes versées au titre des avantages sociaux (0) |    2294 |    2358 |    2285 |    2285 |  2268 |\n",
    " \n",
    "<p style='font-size: 10px;'>(0) Scurité sociale, œuvres sociales, etc...  Inclut l’intéressement (le montant de la masse salariale utilisé pour le calcul de l’intéressement versé par la société Orange SA est de 4 055 millions d’euros pour l’exercice 2019).</p>  \n",
    "```"
   ]
  },
  {
   "cell_type": "markdown",
   "metadata": {
    "heading_collapsed": true,
    "hidden": true
   },
   "source": [
    "## CALCUL"
   ]
  },
  {
   "cell_type": "code",
   "execution_count": null,
   "metadata": {
    "hidden": true,
    "hide_input": true,
    "pycharm": {
     "name": "#%%\n"
    },
    "tags": [
     "hide-input"
    ]
   },
   "outputs": [],
   "source": [
    "from IPython.display import display, HTML\n",
    "\n",
    "# CALCUL\n",
    "taux = 0.55\n",
    "masse_salariale = 4055000000\n",
    "budget_formation  = round(taux * masse_salariale / 100, 2)\n",
    "display(HTML(f\"<p style='font-size: 24px'>BUDGET FORMATION (exercice 2019):<br><br><b>{budget_formation}0</b> €</p>\"))"
   ]
  },
  {
   "cell_type": "code",
   "execution_count": null,
   "metadata": {
    "hidden": true
   },
   "outputs": [],
   "source": []
  }
 ],
 "metadata": {
  "hide_input": false,
  "kernelspec": {
   "display_name": "Python 3",
   "language": "python",
   "name": "python3"
  },
  "language_info": {
   "codemirror_mode": {
    "name": "ipython",
    "version": 3
   },
   "file_extension": ".py",
   "mimetype": "text/x-python",
   "name": "python",
   "nbconvert_exporter": "python",
   "pygments_lexer": "ipython3",
   "version": "3.8.5"
  },
  "latex_envs": {
   "LaTeX_envs_menu_present": true,
   "autoclose": true,
   "autocomplete": true,
   "bibliofile": "biblio.bib",
   "cite_by": "apalike",
   "current_citInitial": 1,
   "eqLabelWithNumbers": true,
   "eqNumInitial": 1,
   "hotkeys": {
    "equation": "Ctrl-E",
    "itemize": "Ctrl-I"
   },
   "labels_anchors": false,
   "latex_user_defs": false,
   "report_style_numbering": false,
   "user_envs_cfg": false
  },
  "toc": {
   "base_numbering": 1,
   "nav_menu": {},
   "number_sections": true,
   "sideBar": true,
   "skip_h1_title": false,
   "title_cell": "Table of Contents",
   "title_sidebar": "Contents",
   "toc_cell": false,
   "toc_position": {
    "height": "calc(100% - 180px)",
    "left": "10px",
    "top": "150px",
    "width": "243px"
   },
   "toc_section_display": true,
   "toc_window_display": false
  },
  "varInspector": {
   "cols": {
    "lenName": 16,
    "lenType": 16,
    "lenVar": 40
   },
   "kernels_config": {
    "python": {
     "delete_cmd_postfix": "",
     "delete_cmd_prefix": "del ",
     "library": "var_list.py",
     "varRefreshCmd": "print(var_dic_list())"
    },
    "r": {
     "delete_cmd_postfix": ") ",
     "delete_cmd_prefix": "rm(",
     "library": "var_list.r",
     "varRefreshCmd": "cat(var_dic_list()) "
    }
   },
   "types_to_exclude": [
    "module",
    "function",
    "builtin_function_or_method",
    "instance",
    "_Feature"
   ],
   "window_display": false
  }
 },
 "nbformat": 4,
 "nbformat_minor": 4
}