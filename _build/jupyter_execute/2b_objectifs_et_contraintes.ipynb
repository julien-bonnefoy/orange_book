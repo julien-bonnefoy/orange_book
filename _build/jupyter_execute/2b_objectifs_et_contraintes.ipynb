{
 "cells": [
  {
   "cell_type": "markdown",
   "metadata": {
    "heading_collapsed": true,
    "pycharm": {
     "name": "#%% md\n"
    }
   },
   "source": [
    "# OBJECTIFS ET CONTRAINTES"
   ]
  },
  {
   "cell_type": "markdown",
   "metadata": {
    "heading_collapsed": true,
    "hidden": true
   },
   "source": [
    "## OBJECTIF 1"
   ]
  },
  {
   "cell_type": "markdown",
   "metadata": {
    "hidden": true
   },
   "source": [
    "<p style='font-size: 24px; display: block; line-height: 30px; background-color: #9400ff; background-image: linear-gradient(to right, #9400ff, #fff);color: #fff;'><b>DASHBOARD</b></p>"
   ]
  },
  {
   "cell_type": "markdown",
   "metadata": {
    "hidden": true
   },
   "source": [
    "Les **fournisseurs de formations** doivent pouvoir suivre l'état de leurs Learning Objects (quantité, type, actifs ou non, etc... et ainsi **monitorer** leur offre pour l'adapter le cas échéant\n",
    "\n",
    "\n",
    "````{margin}\n",
    "```{admonition} Coming up soon\n",
    ":class: seealso\n",
    "Dashboarding & Monitorig avec Plotly Dash, Flask & SQLAlchemy\n",
    "```\n",
    "````"
   ]
  },
  {
   "cell_type": "markdown",
   "metadata": {
    "hidden": true
   },
   "source": [
    "```{note}\n",
    "L'analyse de l'usage (la 'consommation') des Learning Objects devra aussi faire l'objet d'une analyse approfondie.   \n",
    "``` "
   ]
  },
  {
   "cell_type": "markdown",
   "metadata": {
    "heading_collapsed": true,
    "hidden": true
   },
   "source": [
    "## OBJECTIF 2"
   ]
  },
  {
   "cell_type": "markdown",
   "metadata": {
    "hidden": true
   },
   "source": [
    "<p style='font-size: 24px; display: block; line-height: 30px; background-color: #9400ff; background-image: linear-gradient(to right, #9400ff, #fff);color: #fff;'><b>OPTIMISATION DE MOTEUR DE RECHERCHE</b></p>"
   ]
  },
  {
   "cell_type": "markdown",
   "metadata": {
    "hidden": true
   },
   "source": [
    "Celui-ci est l'objectif primaire à moyzen terme. Parmi les objectifd secondaires qui en découlent nous avons:\n",
    "\n",
    "**PISTE 1**: \n",
    "- Evaluer la **PERTINENCE** des **TITRES** (de Learning Objects)\n",
    "\n",
    "Les fournisseurs de formations aimeraient avoir une mesure de la pertinence des Titres de Learning Objects en fonction du contenu de leur description. \n",
    "Le moteur de recherhce est actuellemnt indexé sur les Titres. Si ces Titres ne sont pas adéquats, le moteur perd en performance  \n",
    "<br>\n",
    "\n",
    "    Coming up soon: Keywords (features) Extraction avec TF-IDF\n",
    "\n",
    "<br>\n",
    "\n",
    "**PISTE 2**: \n",
    "- Relier **LEARNING OBJECTS** avec le/les **JOBS/SKILLS** potentiellement concernés\n",
    "    \n",
    "D'un côté nous avons les Learning Objects avec leurs Titres, Descripions, Types, Matières...\n",
    "De l'autre nous avons des JOBS qui sont définis de manière très précise par un ensemble de SKILLS, elles-mêmes divisées en 4 niveaaux d'expertise. Et à aujourd'hui aucun lien n'est fait entre les 2 ni même ne fait l'objet d'un \"champ obligatoire\" lors de l'enregistrmeent d'un  objet..  \n",
    "Il y a pourtant les colonnes  'Mots clés' ou 'Compétences pour la formation' qui font partie de l'extraction du 'Catalogue' mais qui ne sont pas exploitées.\n",
    "\n",
    "Les fournisseurs de fotrmations aimeraient obtenir une IA capable de 'auto-tagger' tous les Learning Objects en fonction  \n",
    "\n",
    "- des SKILLS qu'ils permettent de développer et/ou \n",
    "- des JOBS qui sont concernés\n",
    "\n",
    "<br>\n",
    "\n",
    "    Coming up soon:  Machine Learning & Deep Learning for Text Classification\n",
    "\n",
    "<br>\n",
    "\n"
   ]
  },
  {
   "cell_type": "markdown",
   "metadata": {
    "heading_collapsed": true,
    "hidden": true
   },
   "source": [
    "## CONTRAINTES"
   ]
  },
  {
   "cell_type": "markdown",
   "metadata": {
    "hidden": true
   },
   "source": [
    "<p style='font-size: 24px; display: block; line-height: 24px; background-color: #9400ff; background-image: linear-gradient(to right, #9400ff, #fff);color: #fff;'>RANDOM<br><b/b></p>"
   ]
  },
  {
   "cell_type": "markdown",
   "metadata": {
    "hidden": true
   },
   "source": [
    "> - Orange Learng est 'on top of' Corner Stone On Demand, leader du marché des LMS. Les requêtes se fonest via une interface graphique simpliste (pas acces au code) et renvoient du csv ou xlsx. \n",
    "\n",
    "> - Les modifcations ne me sont évidemment pas accessibles  \n",
    "\n",
    "> - N'ayant pas de serveur disponible en DRHG (ni d'ordinateur de Dev...), j'ai du utiliser mon matériel personnel tout au long du développeemnt de ce projet et donc y implémenter un serveur HTTP Apache pour le Web et un serveur MySQL pour la gestion des bases de données crées à partir des csv/xlsx  \n",
    "\n",
    "> - Certaines requêtes communes, comme celle du  \"Catalogue\" des objets sont assez surprenantes (Cf. plus tard)  l'utilisation qui sont parfois faites avec certaines colonnes sont tantôt du doublon à usage prticulier tantôt des grands vides. Pourquoi les intégrer dabs ce type de requêtes  ?  \n",
    "\n",
    "> - Pour enrtainer les modèles de Machine Learning à classer du texte par exemple, il faut un jeu d'entrainement dit 'lablélisé' servant de base d'apprentissage et de référence pour corriger l'apprentissage en cours. Il n'y aucune feature 'corresponding SKILL' ou 'corresponding JOBS' pour servir de 'cible'. Il faudra soit lableliser à la main ... soit touver une autre solution (Non supervisé? Semi supervisé?\n",
    "\n",
    "> - Mon tuteur n'etait pas,  à mon grnad regret, ni développeur, ni 'connaisseur' d'Intelligences Artificielles\n",
    "\n",
    "> - La gestion d'Orange Learning est divisée entre plusieurs directions ce ui cause parfois des conflits et entraine arfois du gaspillage de temps et d'énerie\n",
    "\n",
    "> - Ce qui fait penser aux aspects politiques inévitables dans des strctures ausssi grande mais l) aussi, temps, energie, gaspillage\n",
    "\n"
   ]
  }
 ],
 "metadata": {
  "hide_input": true,
  "kernelspec": {
   "display_name": "Python 3",
   "language": "python",
   "name": "python3"
  },
  "language_info": {
   "codemirror_mode": {
    "name": "ipython",
    "version": 3
   },
   "file_extension": ".py",
   "mimetype": "text/x-python",
   "name": "python",
   "nbconvert_exporter": "python",
   "pygments_lexer": "ipython3",
   "version": "3.8.5"
  },
  "latex_envs": {
   "LaTeX_envs_menu_present": true,
   "autoclose": true,
   "autocomplete": true,
   "bibliofile": "biblio.bib",
   "cite_by": "apalike",
   "current_citInitial": 1,
   "eqLabelWithNumbers": true,
   "eqNumInitial": 1,
   "hotkeys": {
    "equation": "Ctrl-E",
    "itemize": "Ctrl-I"
   },
   "labels_anchors": false,
   "latex_user_defs": false,
   "report_style_numbering": false,
   "user_envs_cfg": false
  },
  "toc": {
   "base_numbering": 1,
   "nav_menu": {},
   "number_sections": true,
   "sideBar": true,
   "skip_h1_title": false,
   "title_cell": "Table of Contents",
   "title_sidebar": "Contents",
   "toc_cell": false,
   "toc_position": {
    "height": "calc(100% - 180px)",
    "left": "10px",
    "top": "150px",
    "width": "243px"
   },
   "toc_section_display": true,
   "toc_window_display": false
  },
  "varInspector": {
   "cols": {
    "lenName": 16,
    "lenType": 16,
    "lenVar": 40
   },
   "kernels_config": {
    "python": {
     "delete_cmd_postfix": "",
     "delete_cmd_prefix": "del ",
     "library": "var_list.py",
     "varRefreshCmd": "print(var_dic_list())"
    },
    "r": {
     "delete_cmd_postfix": ") ",
     "delete_cmd_prefix": "rm(",
     "library": "var_list.r",
     "varRefreshCmd": "cat(var_dic_list()) "
    }
   },
   "types_to_exclude": [
    "module",
    "function",
    "builtin_function_or_method",
    "instance",
    "_Feature"
   ],
   "window_display": false
  }
 },
 "nbformat": 4,
 "nbformat_minor": 4
}