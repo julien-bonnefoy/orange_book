{
 "cells": [
  {
   "cell_type": "code",
   "execution_count": 1,
   "metadata": {
    "hide_input": false,
    "init_cell": true,
    "pycharm": {
     "name": "#%%\n"
    },
    "slideshow": {
     "slide_type": "skip"
    },
    "tags": [
     "hide-input"
    ]
   },
   "outputs": [],
   "source": [
    "url = 'https://fr.wikipedia.org/wiki/Orange_%28entreprise%29'\n",
    "\n",
    "from selenium import webdriver\n",
    "from selenium.webdriver.firefox.options import Options\n",
    "\n",
    "options = Options()\n",
    "options.headless = True\n",
    "driver = webdriver.Firefox(options=options)\n",
    "driver.implicitly_wait(30)\n",
    "driver.get(url)\n",
    "\n",
    "from bs4 import BeautifulSoup\n",
    "soup = BeautifulSoup(driver.page_source, 'lxml')\n",
    "driver.close()\n",
    "vcard = soup.find(\"table\", {\"class\": \"infobox_v2\"})\n",
    "\n",
    "body = soup.find_all('tbody')\n",
    "\n",
    "rows = body[0].find_all('tr')\n",
    "\n",
    "import re\n",
    "data = {}\n",
    "for row in rows:\n",
    "    tds = row.find_all('td')\n",
    "    ths = row.find_all('th')\n",
    "    for th, td in zip(ths, tds):\n",
    "        data[re.sub('\\n', '', th.text)] = re.sub('\\n', '', td.text)\n",
    "\n",
    "import pandas as pd\n",
    "df = pd.DataFrame.from_dict(data, orient='index')\n",
    "\n",
    "df.drop(['Dates clés', 'Remplace',  'Fonds propres', 'Dette', 'Activité', 'Forme juridique', 'SIREN', 'Personnages clés', 'Sociétés sœurs',\n",
    "         'Directeurs', 'Siège social','Produits', 'Filiales', 'Site web', 'Capitalisation'], inplace=True)\n",
    "\n",
    "df.loc['Actionnaires', 0] = \"Cf. plus bas\"\n",
    "\n",
    "actionnaires = {\n",
    "    'Actionnaires institutionnels':    '64,3  %', \n",
    "    'État français (dont Bpifrance)':  '23    %',\n",
    "    'Actionnaires individuels':         '5    %',\n",
    "    'Salariés':                         '4,64 %',\n",
    "    'Auto-détention':                   '0,4  %'\n",
    "}\n",
    "\n",
    "from IPython.display import display, HTML\n",
    "# display(HTML('<img src=\"static/img/orange_logo.png\" alt=\"Logo Orange\"  style=\"float: left margin-right: 50px; width: 200px;\"/>'))"
   ]
  },
  {
   "cell_type": "code",
   "execution_count": 2,
   "metadata": {
    "hide_input": true,
    "init_cell": true,
    "pycharm": {
     "name": "#%%\n"
    },
    "scrolled": false,
    "slideshow": {
     "slide_type": "subslide"
    },
    "tags": [
     "hide-input"
    ]
   },
   "outputs": [
    {
     "data": {
      "text/html": [
       "<img src=\"../../static/img/orange_logo.png\" alt=\"Logo Orange\"  style=\"float: left, margin-right: 50px; width: 200px;\"/>"
      ],
      "text/plain": [
       "<IPython.core.display.HTML object>"
      ]
     },
     "metadata": {},
     "output_type": "display_data"
    },
    {
     "data": {
      "text/html": [
       "<div>\n",
       "<style scoped>\n",
       "    .dataframe tbody tr th:only-of-type {\n",
       "        vertical-align: middle;\n",
       "    }\n",
       "\n",
       "    .dataframe tbody tr th {\n",
       "        vertical-align: top;\n",
       "    }\n",
       "\n",
       "    .dataframe thead th {\n",
       "        text-align: right;\n",
       "    }\n",
       "</style>\n",
       "<table border=\"1\" class=\"dataframe\">\n",
       "  <thead>\n",
       "    <tr style=\"text-align: right;\">\n",
       "      <th></th>\n",
       "      <th>0</th>\n",
       "    </tr>\n",
       "  </thead>\n",
       "  <tbody>\n",
       "    <tr>\n",
       "      <th>Création</th>\n",
       "      <td>1988 pour France Télécom1994 pour Orange</td>\n",
       "    </tr>\n",
       "    <tr>\n",
       "      <th>Action</th>\n",
       "      <td>Euronext : ORANYSE : ORAN</td>\n",
       "    </tr>\n",
       "    <tr>\n",
       "      <th>Slogan</th>\n",
       "      <td>« Vous rapprocher de l'essentiel »  « La vie c...</td>\n",
       "    </tr>\n",
       "    <tr>\n",
       "      <th>Direction</th>\n",
       "      <td>Stéphane Richard</td>\n",
       "    </tr>\n",
       "    <tr>\n",
       "      <th>Actionnaires</th>\n",
       "      <td>Cf. plus bas</td>\n",
       "    </tr>\n",
       "    <tr>\n",
       "      <th>Effectif</th>\n",
       "      <td>146 768 dont 90 000 en France (au 31/12/2019)[2]</td>\n",
       "    </tr>\n",
       "    <tr>\n",
       "      <th>Chiffre d'affaires</th>\n",
       "      <td>42,238 milliards Euro 2019[6],[5]</td>\n",
       "    </tr>\n",
       "    <tr>\n",
       "      <th>Résultat net</th>\n",
       "      <td>3,226 milliards Euro 2019[6],[5] +49.49%</td>\n",
       "    </tr>\n",
       "  </tbody>\n",
       "</table>\n",
       "</div>"
      ],
      "text/plain": [
       "                                                                    0\n",
       "Création                     1988 pour France Télécom1994 pour Orange\n",
       "Action                                      Euronext : ORANYSE : ORAN\n",
       "Slogan              « Vous rapprocher de l'essentiel »  « La vie c...\n",
       "Direction                                            Stéphane Richard\n",
       "Actionnaires                                             Cf. plus bas\n",
       "Effectif             146 768 dont 90 000 en France (au 31/12/2019)[2]\n",
       "Chiffre d'affaires                  42,238 milliards Euro 2019[6],[5]\n",
       "Résultat net                 3,226 milliards Euro 2019[6],[5] +49.49%"
      ]
     },
     "metadata": {},
     "output_type": "display_data"
    }
   ],
   "source": [
    "display(HTML('<img src=\"../../static/img/orange_logo.png\" alt=\"Logo Orange\"  style=\"float: left, margin-right: 50px; width: 200px;\"/>'))\n",
    "display(df)"
   ]
  },
  {
   "cell_type": "code",
   "execution_count": 3,
   "metadata": {
    "hide_input": true,
    "init_cell": true,
    "pycharm": {
     "name": "#%%\n"
    },
    "scrolled": false,
    "slideshow": {
     "slide_type": "subslide"
    },
    "tags": [
     "hide-input"
    ]
   },
   "outputs": [
    {
     "data": {
      "text/html": [
       "<img src=\"../../static/img/orange_logo.png\" alt=\"Logo Orange\"  style=\"float: left margin-right: 50px; width: 200px;\"/>"
      ],
      "text/plain": [
       "<IPython.core.display.HTML object>"
      ]
     },
     "metadata": {},
     "output_type": "display_data"
    },
    {
     "data": {
      "text/html": [
       "<p>répartition des actionnaires:<br></p>"
      ],
      "text/plain": [
       "<IPython.core.display.HTML object>"
      ]
     },
     "metadata": {},
     "output_type": "display_data"
    },
    {
     "data": {
      "text/html": [
       "<table border=\"1\" class=\"dataframe\">\n",
       "  <thead>\n",
       "    <tr style=\"text-align: right;\">\n",
       "      <th></th>\n",
       "      <th>0</th>\n",
       "    </tr>\n",
       "  </thead>\n",
       "  <tbody>\n",
       "    <tr>\n",
       "      <th>Actionnaires institutionnels</th>\n",
       "      <td>64,3  %</td>\n",
       "    </tr>\n",
       "    <tr>\n",
       "      <th>État français (dont Bpifrance)</th>\n",
       "      <td>23    %</td>\n",
       "    </tr>\n",
       "    <tr>\n",
       "      <th>Actionnaires individuels</th>\n",
       "      <td>5    %</td>\n",
       "    </tr>\n",
       "    <tr>\n",
       "      <th>Salariés</th>\n",
       "      <td>4,64 %</td>\n",
       "    </tr>\n",
       "    <tr>\n",
       "      <th>Auto-détention</th>\n",
       "      <td>0,4  %</td>\n",
       "    </tr>\n",
       "  </tbody>\n",
       "</table>"
      ],
      "text/plain": [
       "<IPython.core.display.HTML object>"
      ]
     },
     "metadata": {},
     "output_type": "display_data"
    }
   ],
   "source": [
    "display(HTML('<img src=\"../../static/img/orange_logo.png\" alt=\"Logo Orange\"  style=\"float: left margin-right: 50px; width: 200px;\"/>'))\n",
    "display(HTML(\"<p>répartition des actionnaires:<br></p>\"))\n",
    "actionnaires = pd.DataFrame.from_dict(actionnaires, orient='index')\n",
    "display(HTML(actionnaires.to_html()))"
   ]
  }
 ],
 "metadata": {
  "celltoolbar": "Tags",
  "hide_input": false,
  "kernelspec": {
   "display_name": "Python 3",
   "language": "python",
   "name": "python3"
  },
  "language_info": {
   "codemirror_mode": {
    "name": "ipython",
    "version": 3
   },
   "file_extension": ".py",
   "mimetype": "text/x-python",
   "name": "python",
   "nbconvert_exporter": "python",
   "pygments_lexer": "ipython3",
   "version": "3.8.5"
  },
  "latex_envs": {
   "LaTeX_envs_menu_present": true,
   "autoclose": true,
   "autocomplete": true,
   "bibliofile": "biblio.bib",
   "cite_by": "apalike",
   "current_citInitial": 1,
   "eqLabelWithNumbers": true,
   "eqNumInitial": 1,
   "hotkeys": {
    "equation": "Ctrl-E",
    "itemize": "Ctrl-I"
   },
   "labels_anchors": false,
   "latex_user_defs": false,
   "report_style_numbering": false,
   "user_envs_cfg": false
  },
  "toc": {
   "base_numbering": 1,
   "nav_menu": {},
   "number_sections": true,
   "sideBar": true,
   "skip_h1_title": false,
   "title_cell": "Table of Contents",
   "title_sidebar": "Contents",
   "toc_cell": false,
   "toc_position": {
    "height": "calc(100% - 180px)",
    "left": "10px",
    "top": "150px",
    "width": "243px"
   },
   "toc_section_display": true,
   "toc_window_display": false
  },
  "varInspector": {
   "cols": {
    "lenName": 16,
    "lenType": 16,
    "lenVar": 40
   },
   "kernels_config": {
    "python": {
     "delete_cmd_postfix": "",
     "delete_cmd_prefix": "del ",
     "library": "var_list.py",
     "varRefreshCmd": "print(var_dic_list())"
    },
    "r": {
     "delete_cmd_postfix": ") ",
     "delete_cmd_prefix": "rm(",
     "library": "var_list.r",
     "varRefreshCmd": "cat(var_dic_list()) "
    }
   },
   "types_to_exclude": [
    "module",
    "function",
    "builtin_function_or_method",
    "instance",
    "_Feature"
   ],
   "window_display": false
  }
 },
 "nbformat": 4,
 "nbformat_minor": 4
}