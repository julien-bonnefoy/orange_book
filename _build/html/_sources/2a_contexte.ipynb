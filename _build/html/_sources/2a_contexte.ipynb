{
 "cells": [
  {
   "cell_type": "markdown",
   "metadata": {
    "pycharm": {
     "name": "#%% md\n"
    },
    "slideshow": {
     "slide_type": "slide"
    }
   },
   "source": [
    "# LE CONTEXTE"
   ]
  },
  {
   "cell_type": "markdown",
   "source": [
    "## Formation au Titre de Développeur en I.A."
   ],
   "metadata": {
    "collapsed": false,
    "pycharm": {
     "name": "#%% md\n"
    }
   }
  },
  {
   "cell_type": "markdown",
   "metadata": {
    "slideshow": {
     "slide_type": "skip"
    }
   },
   "source": [
    "J'ai eu la chance d'être recruté fin mars 2019 pour intégrer une formation de développeeur en Intelligence Artficirelle, dont le programme est parraibé par l'Ecole Data-I.A. de Microsoft.\n",
    " mois de froamtion dite 'intensive'\n",
    " ... ... ... \n",
    " \n",
    "Ce projet a commencé lors de mon Contrat de Professionalisation chez Orange S.A. (09-11-2019 - 22-10-2020) au sein de l'équipe **Orange Learning** qui fait partie de la D.R.H. Groupe.  \n",
    "Orange Learning est le Learning Management System (une plateforme d'apprentissage' qui est commune à l'internationnal et de ce fait la gestion se situe au niveau \"Groupe\"\n",
    "\n",
    "- D.R.H.G.: **D**irection des **R**essources **H**umaines **G**roupe  \n",
    "    - D.F.D.C.G.: **D**irection de le **F**ormation et du **D**éveloppement des **C**ompétences **G**roupe\n",
    "        - D.N.E.A.: **D**irection des **N**ouvelles **E**xpériences d'**A**pprentissage\n",
    "            - <p><span style='color: #f16e00; background-color: #ddd; text-align: center; width: 50%; line-height: 30px; font-size: 24px; font-weight: bolder;'>ORANGE LEARNING</span><p>"
   ]
  },
  {
   "cell_type": "markdown",
   "metadata": {
    "slideshow": {
     "slide_type": "subslide"
    },
    "tags": [
     "remove-cell"
    ]
   },
   "source": [
    "Contrat de Professionalisation chez Orange S.A. (09-11-2019 - 22-10-2020) au sein de l'équipe **Orange Learning** (D.R.H. Groupe)\n",
    "\n",
    "Orange Learning = Learning Management System ('Plateforme d'apprentissage' commune à l'internationnal)"
   ]
  },
  {
   "cell_type": "markdown",
   "metadata": {
    "slideshow": {
     "slide_type": "subslide"
    },
    "tags": [
     "remove-cell"
    ]
   },
   "source": [
    "- D.R.H.G.: **D**irection des **R**essources **H**umaines **G**roupe  \n",
    "    - D.F.D.C.G.: **D**irection de le **F**ormation et du **D**éveloppement des **C**ompétences **G**roupe\n",
    "        - D.N.E.A.: **D**irection des **N**ouvelles **E**xpériences d'**A**pprentissage\n",
    "            - <p><span style='color: #f16e00; background-color: #ddd; text-align: center; width: 50%; line-height: 30px; font-size: 24px; font-weight: bolder;'>ORANGE LEARNING</span><p>"
   ]
  },
  {
   "cell_type": "markdown",
   "metadata": {
    "slideshow": {
     "slide_type": "subslide"
    },
    "tags": [
     "remove-cell"
    ]
   },
   "source": [
    "Tout au long de leurs carrières chez Orange, les collaborateurs devront par exemple \n",
    "- metre à jour leurs connaissances/compétences, ou encore \n",
    "- consolider celles qu'ils ont déjà voire même \n",
    "- en développer de nouvelles jusque là inconnues.\n",
    "\n",
    "Accès illimité à Orange Learning. \n",
    "Le plus souvent, l'utilisation de la plateforme fait suite un ordre / une demande de la hierarchie mais il est à noter que l'accès y est possible 24/7 à l'ensemble des salariés."
   ]
  },
  {
   "cell_type": "markdown",
   "metadata": {
    "slideshow": {
     "slide_type": "slide"
    }
   },
   "source": [
    "## Orange en chiffres"
   ]
  },
  {
   "cell_type": "code",
   "execution_count": null,
   "metadata": {
    "hide_input": false,
    "init_cell": true,
    "pycharm": {
     "name": "#%%\n"
    },
    "slideshow": {
     "slide_type": "skip"
    },
    "tags": [
     "hide-input"
    ]
   },
   "outputs": [],
   "source": [
    "url = 'https://fr.wikipedia.org/wiki/Orange_%28entreprise%29'\n",
    "\n",
    "from selenium import webdriver\n",
    "from selenium.webdriver.firefox.options import Options\n",
    "\n",
    "options = Options()\n",
    "options.headless = True\n",
    "driver = webdriver.Firefox(options=options)\n",
    "driver.implicitly_wait(30)\n",
    "driver.get(url)\n",
    "\n",
    "from bs4 import BeautifulSoup\n",
    "soup = BeautifulSoup(driver.page_source, 'lxml')\n",
    "driver.close()\n",
    "vcard = soup.find(\"table\", {\"class\": \"infobox_v2\"})\n",
    "\n",
    "body = soup.find_all('tbody')\n",
    "\n",
    "rows = body[0].find_all('tr')\n",
    "\n",
    "import re\n",
    "data = {}\n",
    "for row in rows:\n",
    "    tds = row.find_all('td')\n",
    "    ths = row.find_all('th')\n",
    "    for th, td in zip(ths, tds):\n",
    "        data[re.sub('\\n', '', th.text)] = re.sub('\\n', '', td.text)\n",
    "\n",
    "import pandas as pd\n",
    "df = pd.DataFrame.from_dict(data, orient='index')\n",
    "\n",
    "df.drop(['Dates clés', 'Remplace',  'Fonds propres', 'Dette', 'Activité', 'Forme juridique', 'SIREN', 'Personnages clés', 'Sociétés sœurs',\n",
    "         'Directeurs', 'Siège social','Produits', 'Filiales', 'Site web', 'Capitalisation'], inplace=True)\n",
    "\n",
    "df.loc['Actionnaires', 0] = \"Cf. plus bas\"\n",
    "\n",
    "actionnaires = {\n",
    "    'Actionnaires institutionnels':    '64,3  %', \n",
    "    'État français (dont Bpifrance)':  '23    %',\n",
    "    'Actionnaires individuels':         '5    %',\n",
    "    'Salariés':                         '4,64 %',\n",
    "    'Auto-détention':                   '0,4  %'\n",
    "}\n",
    "\n",
    "from IPython.display import display, HTML\n",
    "# display(HTML('<img src=\"static/img/orange_logo.png\" alt=\"Logo Orange\"  style=\"float: left margin-right: 50px; width: 200px;\"/>'))"
   ]
  },
  {
   "cell_type": "markdown",
   "metadata": {},
   "source": [
    "<img src=\"/home/julien/Www/website/website/static/img/orange_logo.png\" alt=\"Logo Orange\"  style=\"float: left margin-right: 50px; width: 200px;\"/>'"
   ]
  },
  {
   "cell_type": "code",
   "execution_count": null,
   "metadata": {
    "hide_input": true,
    "init_cell": true,
    "pycharm": {
     "name": "#%%\n"
    },
    "scrolled": false,
    "slideshow": {
     "slide_type": "subslide"
    },
    "tags": [
     "hide-input"
    ]
   },
   "outputs": [],
   "source": [
    "display(HTML('<img src=\"../../static/img/orange_logo.png\" alt=\"Logo Orange\"  style=\"float: left, margin-right: 50px; width: 200px;\"/>'))\n",
    "display(df)"
   ]
  },
  {
   "cell_type": "code",
   "execution_count": null,
   "metadata": {
    "hide_input": true,
    "init_cell": true,
    "pycharm": {
     "name": "#%%\n"
    },
    "scrolled": false,
    "slideshow": {
     "slide_type": "subslide"
    },
    "tags": [
     "hide-input"
    ]
   },
   "outputs": [],
   "source": [
    "display(HTML('<img src=\"../../static/img/orange_logo.png\" alt=\"Logo Orange\"  style=\"float: left margin-right: 50px; width: 200px;\"/>'))\n",
    "display(HTML(\"<p>répartition des actionnaires:<br></p>\"))\n",
    "actionnaires = pd.DataFrame.from_dict(actionnaires, orient='index')\n",
    "display(HTML(actionnaires.to_html()))"
   ]
  },
  {
   "cell_type": "markdown",
   "metadata": {
    "hide_input": true,
    "slideshow": {
     "slide_type": "slide"
    }
   },
   "source": [
    "## Orange en Métiers et Compétences"
   ]
  },
  {
   "cell_type": "markdown",
   "metadata": {
    "slideshow": {
     "slide_type": "skip"
    }
   },
   "source": [
    "Chez Orange ont été définis **128** métiers **JOBS** et pour chacun de ces JOBS ont été listées les compétences **SKILLS** auxquelles ils font appel (environ 10 SKILLS/JOB).  \n",
    "\n",
    "\n",
    "Comme on peut l'imaginer, certaines SKILLS sont plutôt techniques et donc spécifiques à (un) certain(s) métier(s). Ce sont les **hard skills**.<br> \n",
    "D'autres sont dites transverses car communes à plusieurs métiers. Ces dernières impliquent le plus souvent des qualités 'relationelles“ et/ou \"manageriales\" ce qui explique pourquoi ont peut les retrouver dans la définitions de plusieurs  méters. Ce sont les **soft skills**,\n",
    "\n",
    "A savoir également, pour chaque compétence il y a 4 niveaux d'expertise qui sont détaillés: Débutant, Intermédiaire, Confirmé et Expert. C'est d'alleurs l'évoluton entre ces paliers qui  et azu coeur des **évaluations annuelles** de chaque collaborateur et qui, au bout du compte, **impacte directement la rémunération** par la répartition des augmentations de salare.\n",
    "\n",
    "Tout au long de leurs carrières chez Orange, les collaborateurs devront par exemple \n",
    "- metre à jour leurs connaissances/compétences, ou encore \n",
    "- consolider celles qu'ils ont déjà voire même \n",
    "- en développer de nouvelles jusque là inconnues.\n",
    "\n",
    "Pour se faire, ils ont donc un accès illimité à Orange Learning. Le plus souvent, l'utilisation de la plateforme fait suite un ordre / une demande de la hierarchie mais il est à noter que l'accès y est possible 24/7 à l'ensemble des salariés."
   ]
  },
  {
   "cell_type": "markdown",
   "metadata": {
    "slideshow": {
     "slide_type": "subslide"
    },
    "tags": [
     "remove-cell"
    ]
   },
   "source": [
    "**128** métiers **JOBS** \n",
    "\n",
    "JOB ==> liste compétences **SKILLS** auxquelles il fait appel (environ 10 SKILLS/JOB).  \n",
    "\n",
    " **hard skills** & **soft skills**\n",
    "\n",
    "SKILL ==> 4 niveaux d'expertise: Débutant, Intermédiaire, Confirmé et Expert. \n",
    "\n",
    "L\\' évolution entre ces paliers fait partie des **évaluations annuelles** de chaque collaborateur (**impacte sur la rémunération**)"
   ]
  },
  {
   "cell_type": "markdown",
   "metadata": {
    "slideshow": {
     "slide_type": "slide"
    }
   },
   "source": [
    "## Orange en Objets de Formation (Learning Objects)"
   ]
  },
  {
   "cell_type": "markdown",
   "metadata": {
    "slideshow": {
     "slide_type": "skip"
    }
   },
   "source": [
    "La base de donnée sur laquelle Orange Learning est construite est issue de la jonction d'une dizaine de tables données qu proviennent d'entités différentes. Par exemple les données \"infos salariés\" qui viennent de la DRH, les données d'\"usage\" qui viennent des fournisseurs (écoles/campus) etc.\n",
    "\n",
    "Cette base de données est constituée d\\' Objets de Formation (Learning Objects)\n",
    "\n",
    "Ces Learning Objects sont développés, intégrés et maintenus soit par \n",
    "\n",
    "- les Directions dites 'Métiers', comme la Direction Technique du Système d'Information qui va regrouper les Techniciens d'Interventon,  les Architectes Réseaux etc. Soit par\n",
    "\n",
    "- les Écoles et Campus de formation qui sont des structures dédiées à l'évolution professionnelle des collaborateurs. Ces éocles peuvent être très specifiques 'Métiers' comme l'Ecole des Métiers Techniques (C.Q.F.D.) ou encore l'Ecole de la Vente Grand Public pour les Conseillers Clietns.\n",
    "Ou plutôt transverses comme l'Innovation School ou comme sont nom l'indique l'Ecole des Compétences Transverses\n",
    "\n",
    "Il est possible d'en avoir le catalogue via une requête commune préenregistrée nommée:\n",
    "FR_Catalogue_des_objets_de_formation dont l\\' execution aboutit à la création d'un ficher .csv ou xlsx"
   ]
  },
  {
   "cell_type": "markdown",
   "metadata": {
    "slideshow": {
     "slide_type": "subslide"
    }
   },
   "source": [
    "Orange Learning DB issue de la jonction d'une dizaine de bases données provenant d'entités différentes.\n",
    "Ex :\n",
    "- Données \"infos salariées\" viennent de la DRH,\n",
    "- Données d'\"usage\" qui des fournisseurs (écoles/campus) etc."
   ]
  },
  {
   "cell_type": "markdown",
   "metadata": {
    "slideshow": {
     "slide_type": "subslide"
    }
   },
   "source": [
    "==> Objets de Formation (Learning Objects) : Développés, intégrés et maintenus soit par \n",
    "\n",
    "- **les Directions dites 'Métiers'**\n",
    "    * ex : Direction Technique du Système d'Information pour les Techniciens d'Intervention, les Architectes Réseaux\n",
    "    \n",
    "- **les Écoles et Campus de formation** : structures dédiées à l'évolution professionnelle des collaborateurs.\n",
    "    * ex spécifique 'Métiers': Ecol de la Vente Grand Public (Conseillers Clients)\n",
    "    * ex transverse: Innovation School"
   ]
  },
  {
   "cell_type": "markdown",
   "metadata": {
    "slideshow": {
     "slide_type": "subslide"
    }
   },
   "source": [
    "Catalogue des Learning Objects via requête commune préenregistrée :\n",
    "\n",
    "FR_Catalogue_des_objets_de_formation  \n",
    "\n",
    "==> ficher .csv ou .xlsx de dimensions  66517 lignes * 48 colonnes"
   ]
  }
 ],
 "metadata": {
  "celltoolbar": "Tags",
  "hide_input": false,
  "kernelspec": {
   "display_name": "Python 3",
   "language": "python",
   "name": "python3"
  },
  "language_info": {
   "codemirror_mode": {
    "name": "ipython",
    "version": 3
   },
   "file_extension": ".py",
   "mimetype": "text/x-python",
   "name": "python",
   "nbconvert_exporter": "python",
   "pygments_lexer": "ipython3",
   "version": "3.8.5"
  },
  "latex_envs": {
   "LaTeX_envs_menu_present": true,
   "autoclose": true,
   "autocomplete": true,
   "bibliofile": "biblio.bib",
   "cite_by": "apalike",
   "current_citInitial": 1,
   "eqLabelWithNumbers": true,
   "eqNumInitial": 1,
   "hotkeys": {
    "equation": "Ctrl-E",
    "itemize": "Ctrl-I"
   },
   "labels_anchors": false,
   "latex_user_defs": false,
   "report_style_numbering": false,
   "user_envs_cfg": false
  },
  "toc": {
   "base_numbering": 1,
   "nav_menu": {},
   "number_sections": true,
   "sideBar": true,
   "skip_h1_title": false,
   "title_cell": "Table of Contents",
   "title_sidebar": "Contents",
   "toc_cell": false,
   "toc_position": {
    "height": "calc(100% - 180px)",
    "left": "10px",
    "top": "150px",
    "width": "243px"
   },
   "toc_section_display": true,
   "toc_window_display": false
  },
  "varInspector": {
   "cols": {
    "lenName": 16,
    "lenType": 16,
    "lenVar": 40
   },
   "kernels_config": {
    "python": {
     "delete_cmd_postfix": "",
     "delete_cmd_prefix": "del ",
     "library": "var_list.py",
     "varRefreshCmd": "print(var_dic_list())"
    },
    "r": {
     "delete_cmd_postfix": ") ",
     "delete_cmd_prefix": "rm(",
     "library": "var_list.r",
     "varRefreshCmd": "cat(var_dic_list()) "
    }
   },
   "types_to_exclude": [
    "module",
    "function",
    "builtin_function_or_method",
    "instance",
    "_Feature"
   ],
   "window_display": false
  }
 },
 "nbformat": 4,
 "nbformat_minor": 4
}