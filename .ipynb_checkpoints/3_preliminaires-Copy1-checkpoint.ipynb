{
 "cells": [
  {
   "cell_type": "markdown",
   "metadata": {
    "pycharm": {
     "name": "#%% md\n"
    }
   },
   "source": [
    "# PRELIMINAIRES"
   ]
  },
  {
   "cell_type": "markdown",
   "metadata": {
    "pycharm": {
     "name": "#%% md\n"
    }
   },
   "source": [
    "## BESOIN FONCTIONNEL du/des clients"
   ]
  },
  {
   "cell_type": "markdown",
   "metadata": {},
   "source": [
    "### DASHBOARD"
   ]
  },
  {
   "cell_type": "markdown",
   "metadata": {},
   "source": [
    "#### Panel 1: Distribution statistique"
   ]
  },
  {
   "cell_type": "markdown",
   "metadata": {},
   "source": [
    "```{panels}\n",
    ":header: text-center\n",
    "\n",
    "---\n",
    "\n",
    "{badge}`PAS DE FOURNISSEUR SELECTIONNE,badge-primary`\n",
    "\n",
    "^^^\n",
    "\n",
    "<p>-<span style='color: #fff; background-color: #f16e00; text-align: center; line-height: 20px; font-size: 14px; font-weight: bolder; padding-top: 4px;'>\"Bar chart\"</span>: Réparttion des L.O. par Fournisseur</p>\n",
    "<p>-<span style='color: #fff; background-color: #f16e00; text-align: center; line-height: 20px; font-size: 14px; font-weight: bolder; padding-top: 4px;'>\"KPI\"</span>: Nombre et distribution des L.O. par types</p>\n",
    "<p>-<span style='color: #fff; background-color: #f16e00; text-align: center; line-height: 20px; font-size: 14px; font-weight: bolder; padding-top: 4px;'>\"Sunburst\"</span>: 'Actif - Non actif' / 'Type'</p>\n",
    "\n",
    "---\n",
    "\n",
    "{badge}`FOURNISSEUR SELECTIONNE,badge-primary`\n",
    "\n",
    "^^^\n",
    "\n",
    "<p>-<span style='color: #fff; background-color: #f16e00; text-align: center; line-height: 20px; font-size: 14px; font-weight: bolder; padding-top: 4px;'>\"Pie chart\"</span>: Réparttion par 'Types'</p>\n",
    "<p>-<span style='color: #fff; background-color: #f16e00; text-align: center; line-height: 20px; font-size: 14px; font-weight: bolder; padding-top: 4px;'>\"KPI\"</span>:Nombre et distribution des L.O. par types</p>\n",
    "<p>-<span style='color: #fff; background-color: #f16e00; text-align: center; line-height: 20px; font-size: 14px; font-weight: bolder; padding-top: 4px;'>\"Pie Chart\"</span>: 'Répartition Actif - Non actif'</p>\n",
    "\n",
    "```"
   ]
  },
  {
   "cell_type": "markdown",
   "metadata": {},
   "source": [
    "#### Panel 2: Mots les plus fréquents"
   ]
  },
  {
   "cell_type": "markdown",
   "metadata": {},
   "source": [
    "Pour introduire l'extraction automatique de mots clés, \n",
    "\n",
    "```{panels}\n",
    ":header: text-center\n",
    "\n",
    "---\n",
    "\n",
    "{badge}`PAS DE FOURNISSEUR SELECTIONNE,badge-primary`\n",
    "\n",
    "^^^\n",
    "\n",
    "---\n",
    "\n",
    "{badge}`FOURNISSEUR SELECTIONNE,badge-primary`\n",
    "\n",
    "^^^\n"
   ]
  },
  {
   "cell_type": "markdown",
   "metadata": {},
   "source": [
    "<p>-<span style='color: #fff; background-color: #f16e00; text-align: center; line-height: 20px; font-size: 14px; font-weight: bolder; padding-top: 4px;'>\"WordCloud + Bar Chart\"</span>: mots les plus fréquents (en dehors des \"stopwords\")</p>\n",
    "<p>-<span style='color: #fff; background-color: #f16e00; text-align: center; line-height: 20px; font-size: 14px; font-weight: bolder; padding-top: 4px;'>\"Special Feature\"</span> permettant d'ajouter \"X\" mots les plus fréquents aux \"stopwords\" et d'en voir l'impact sur les 2 visualisations précédentes</p>"
   ]
  },
  {
   "cell_type": "markdown",
   "metadata": {},
   "source": [
    "#### Panel 3: Score de \"pertinence\" des Tiitres"
   ]
  },
  {
   "cell_type": "markdown",
   "metadata": {},
   "source": [
    "Après extrction automatique des mots clés par TF-IDF (cf. bientôt) et pour **TOUS** les Learning Objects (fr) selectionnables un à un\n",
    "\n",
    "```{panels}\n",
    ":header: text-center\n",
    "\n",
    "---\n",
    "\n",
    "{badge}`PAS DE FOURNISSEUR SELECTIONNE,badge-primary`\n",
    "\n",
    "^^^\n",
    "\n",
    "---\n",
    "\n",
    "{badge}`FOURNISSEUR SELECTIONNE,badge-primary`\n",
    "\n",
    "^^^\n"
   ]
  },
  {
   "cell_type": "markdown",
   "metadata": {},
   "source": [
    "<p>-<span style='color: #fff; background-color: #f16e00; text-align: center; line-height: 20px; font-size: 14px; font-weight: bolder; padding-top: 4px;'>\"LED Dipslay\"</span>: décompte des L.O. + L.O. actifs + Score Moyen de \"Pertinence\"</p>\n",
    "<p>-<span style='color: #fff; background-color: #f16e00; text-align: center; line-height: 20px; font-size: 14px; font-weight: bolder; padding-top: 4px;'>Face/Face\"</span>: mots du Titre face aux Mots-ckés extraits automatiquement</p>"
   ]
  },
  {
   "cell_type": "markdown",
   "metadata": {},
   "source": [
    "### CLASSIFICATION AUTOMATIQUER des LEARNIING OBJECTS"
   ]
  },
  {
   "cell_type": "markdown",
   "metadata": {},
   "source": [
    "<p>-Catégorie: <span style='color: #fff; background-color: #f16e00; text-align: center; line-height: 20px; font-size: 14px; font-weight: bolder; padding-top: 4px;'>Matières de la formation parent\"</span></p>\n",
    "<p>-Catégorie: <span style='color: #fff; background-color: #f16e00; text-align: center; line-height: 20px; font-size: 14px; font-weight: bolder; padding-top: 4px;'>Matières de la formation\"</span></p><br>\n",
    "(Cf. bientôt)"
   ]
  },
  {
   "cell_type": "markdown",
   "metadata": {
    "pycharm": {
     "name": "#%% md\n"
    }
   },
   "source": [
    "##  VEILLE et ETAT de l'ART"
   ]
  },
  {
   "cell_type": "markdown",
   "metadata": {
    "pycharm": {
     "name": "#%% md\n"
    }
   },
   "source": [
    "Revue de Littérature sur le sujet:  \n",
    "\n",
    "<p><span style='color: #fff; background-color: #f16e00; text-align: center; line-height: 20px; font-size: 14px; font-weight: bolder; padding-top: 4px;'>CLASSIFICATION DE TEXTE\"</span></p><br>\n",
    "\n",
    "En résumé:\n",
    "\n",
    "* Présentation des articles qui concernent la Classification Automatique de Texte en Machine Learning et Deep Learning et des performaneces obtenues\n",
    "\n",
    "* Synthèse :\n",
    "    - tendances actuelles,\n",
    "    - conséquences sur les alogorithmes testés\n",
    "    \n",
    "```{note}\n",
    "Cf ANNEXES: Cas Pratique E3\n",
    "```"
   ]
  },
  {
   "cell_type": "markdown",
   "metadata": {
    "pycharm": {
     "name": "#%% md\n"
    }
   },
   "source": [
    "## CHOIX des TECHNOLOGIES"
   ]
  },
  {
   "cell_type": "markdown",
   "metadata": {
    "pycharm": {
     "name": "#%% md\n"
    }
   },
   "source": [
    "### Module base de données"
   ]
  },
  {
   "cell_type": "markdown",
   "metadata": {
    "hide_input": false,
    "pycharm": {
     "name": "#%% md\n"
    }
   },
   "source": [
    "<img src=\"../../static/img/mysql_150.jpeg\" alt=\"mySQL icon\" style=\"float: left; margin-right: 50px; height: 150px;\" />\n",
    "\n",
    "- **mySQL** car bases de données relationnelles il y aura:\n",
    "    * LA référence\n",
    "    * déjà installé sur le matériel.\n",
    "    * d'interface facilement avec Python\n",
    "\n",
    "\n",
    "- **mysql-server** est installé sur un serveur personnel Apache2.0"
   ]
  },
  {
   "cell_type": "markdown",
   "metadata": {
    "pycharm": {
     "name": "#%% md\n"
    }
   },
   "source": [
    "### Module Entraînement"
   ]
  },
  {
   "cell_type": "markdown",
   "metadata": {
    "pycharm": {
     "name": "#%% md\n"
    }
   },
   "source": [
    "<img src=\"../../static/img/sklearn_150.png\" alt=\"SciKit Learn icon\" style=\"float: left; margin-right: 50px; height: 150px;\" />\n",
    "\n",
    "**SciKit Learn**\n",
    "- pour le Machine Learning classique<br>"
   ]
  },
  {
   "cell_type": "markdown",
   "metadata": {
    "hide_input": false,
    "pycharm": {
     "name": "#%% md\n"
    }
   },
   "source": [
    "<img src=\"../../static/img/keras_tf_150.png\" alt=\"Keras + TensorFlow icon\" style=\"float: left; margin-right: 50px; height: 150px;\" /><br>\n",
    "\n",
    "**TensorFlow + Keras**\n",
    "- pour le Deep Learning<br>"
   ]
  },
  {
   "cell_type": "markdown",
   "metadata": {
    "pycharm": {
     "name": "#%% md\n"
    }
   },
   "source": [
    "### Module application"
   ]
  },
  {
   "cell_type": "markdown",
   "metadata": {
    "pycharm": {
     "name": "#%% md\n"
    }
   },
   "source": [
    "<img src=\"../../static/img/flask_python_150.png\" alt=\"Python Flask icon\" style=\"float: left; margin-right: 50px; height: 150px;\" />\n",
    "\n",
    "**Flask**\n",
    "* simple\n",
    "* modulable (login, monitoring...) et\n",
    "* facilemet deployable"
   ]
  },
  {
   "cell_type": "markdown",
   "metadata": {
    "pycharm": {
     "name": "#%% md\n"
    }
   },
   "source": [
    "<img src=\"../../static/img/dash_150.png\" alt=\"Dash icon\" style=\"float: left; margin-right: 50px; width: 200px;\" />\n",
    "\n",
    "**Dash**\n",
    "* complet et\n",
    "* customizable"
   ]
  },
  {
   "cell_type": "code",
   "execution_count": null,
   "metadata": {},
   "outputs": [],
   "source": []
  }
 ],
 "metadata": {
  "hide_input": false,
  "kernelspec": {
   "display_name": "Python 3",
   "language": "python",
   "name": "python3"
  },
  "language_info": {
   "codemirror_mode": {
    "name": "ipython",
    "version": 3
   },
   "file_extension": ".py",
   "mimetype": "text/x-python",
   "name": "python",
   "nbconvert_exporter": "python",
   "pygments_lexer": "ipython3",
   "version": "3.8.5"
  },
  "toc": {
   "base_numbering": 1,
   "nav_menu": {},
   "number_sections": true,
   "sideBar": true,
   "skip_h1_title": false,
   "title_cell": "Table of Contents",
   "title_sidebar": "Contents",
   "toc_cell": false,
   "toc_position": {},
   "toc_section_display": true,
   "toc_window_display": false
  }
 },
 "nbformat": 4,
 "nbformat_minor": 1
}
