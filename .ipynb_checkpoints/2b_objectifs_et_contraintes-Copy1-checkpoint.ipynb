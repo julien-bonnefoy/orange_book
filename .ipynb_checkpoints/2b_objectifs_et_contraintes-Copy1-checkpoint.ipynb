{
 "cells": [
  {
   "cell_type": "markdown",
   "metadata": {
    "pycharm": {
     "name": "#%% md\n"
    }
   },
   "source": [
    "# OBJECTIFS ET CONTRAINTES"
   ]
  },
  {
   "cell_type": "markdown",
   "metadata": {},
   "source": [
    "## OBJECTIF 1"
   ]
  },
  {
   "cell_type": "markdown",
   "metadata": {},
   "source": [
    "<p style='font-size: 24px; display: block; line-height: 30px; background-color: #9400ff; background-image: linear-gradient(to right, #9400ff, #fff);color: #fff; width: 75%;'><b>LEARNING OBJECTS DASHBOARD</b></p>"
   ]
  },
  {
   "cell_type": "markdown",
   "metadata": {},
   "source": [
    "Les **fournisseurs de formations** ont besoin d'un dashboard synthétique de l'état de leurs Learning Objects (quantité, type, actifs ou non etc... et ainsi **monitorer** leur offre et pouvois l'adapter le cas échéant\n",
    "\n",
    "    Coming up soon: Dashboarding & Monitorig avec Plotly Dash, Flask & SQLAlchemy"
   ]
  },
  {
   "cell_type": "markdown",
   "metadata": {},
   "source": [
    "```{note}\n",
    "L'analyse de l'usage (la 'consommation') des Learning Objects devra aussi faire l'objet d'une analyse approfondie.   \n",
    "``` "
   ]
  },
  {
   "cell_type": "markdown",
   "metadata": {},
   "source": [
    "## OBJECTIF 2"
   ]
  },
  {
   "cell_type": "markdown",
   "metadata": {},
   "source": [
    "<p style='font-size: 24px; display: block; line-height: 30px; background-color: #9400ff; background-image: linear-gradient(to right, #9400ff, #fff);color: #fff; width: 75%;'><b>OPTIMISATION DE MOTEUR DE RECHERCHE</b></p>"
   ]
  },
  {
   "cell_type": "markdown",
   "metadata": {},
   "source": [
    "Celui-ci est l'objectif primaire à moyzen terme. Parmi les objectifd secondaires qui en découlent nous avons:\n",
    "\n",
    "```{admonition} **PISTE 1**: \n",
    ":class: tip\n",
    "- Evaluer la **PERTINENCE** des **TITRES** (de Learning Objects)\n",
    "```\n",
    "\n",
    "Les fournisseurs de formations aimeraient avoir une mesure de la pertinence des Titres de Learning Objects en fonction du contenu de leur description. \n",
    "Le moteur de recherhce est actuellemnt indexé sur les Titres. Si ces Titres ne sont pas adéquats, le moteur perd en performance  \n",
    "<br>\n",
    "\n",
    "```{margin} Coming up soon\n",
    "Automatic Keywords Extraction with TF-IDF algorithm\n",
    "```\n",
    "\n",
    "<br>\n",
    "\n",
    "```{admonition} **PISTE 2**: \n",
    ":class: tip\n",
    "- Relier **LEARNING OBJECTS** avec le/les **JOBS/SKILLS** potentiellement concernés\n",
    "```\n",
    "\n",
    "D'un côté nous avons les Learning Objects avec leurs Titres, Descripions, Types, Matières...\n",
    "De l'autre nous avons des JOBS qui sont définis de manière très précise par un ensemble de SKILLS, elles-mêmes divisées en 4 niveaaux d'expertise. Et à aujourd'hui aucun lien n'est fait entre les 2 ni même ne fait l'objet d'un \"champ obligatoire\" lors de l'enregistrmeent d'un  objet..  \n",
    "Il y a pourtant les colonnes  'Mots clés' ou 'Compétences pour la formation' qui font partie de l'extraction du 'Catalogue' mais qui ne sont pas exploitées.\n",
    "\n",
    "Les fournisseurs de fotrmations aimeraient obtenir une IA capable de 'auto-tagger' tous les Learning Objects en fonction  \n",
    "\n",
    "- des SKILLS qu'ils permettent de développer et/ou \n",
    "- des JOBS qui sont concernés\n",
    "\n",
    "<br>\n",
    "\n",
    "```{margin} Coming up soon\n",
    "Machinne Learning & Deep Learning for Automatic Text Classification\n",
    "```\n",
    "<br>"
   ]
  },
  {
   "cell_type": "markdown",
   "metadata": {},
   "source": [
    "<h2>CONTRAINTES"
   ]
  },
  {
   "cell_type": "markdown",
   "metadata": {},
   "source": [
    "<p style='font-size: 24px; display: block; line-height: 30px; background-color: #9400ff; background-image: linear-gradient(to right, #9400ff, #fff);color: #fff; width: 75%;'><b>RANDOM</b></p>"
   ]
  },
  {
   "cell_type": "markdown",
   "metadata": {},
   "source": [
    "Les **fournisseurs de formations** ont besoin d'un dashboard synthétique de l'état de leurs Learning Objects (quantité, type, actifs ou non etc... et ainsi **monitorer** leur offre et pouvois l'adapter le cas échéant\n",
    "\n",
    "    Coming up soon: Dashboarding & Monitorig avec Plotly Dash, Flask & SQLAlchemy"
   ]
  },
  {
   "cell_type": "markdown",
   "metadata": {},
   "source": [
    "Orange Learng est 'on top of' Corner Stone On Demand, leader du marché des LMS. Les requêtes se fonest via une interface graphique simpliste (pas acces au code) et renvoient du csv ou xlsx. \n",
    "Les modifcations ne me sont évidemment pas accessibles  \n",
    "  \n",
    "  \n",
    "N'ayant pas de serveur disponible en DRHG (ni d'ordinateur de Dev...), j'ai du utiliser mon matériel personnel tout au long du développeemnt de ce projet et donc y implémenter un serveur HTTP Apache pour le Web et un serveur MySQL pour la gestion des bases de données crées à partir des csv/xlsx  \n",
    "  \n",
    "  \n",
    "Certaines requêtes communes, comme celle du  \"Catalogue\" des objets sont assez surprenantes (Cf. plus tard)  l'utilisation qui sont parfois faites avec certaines colonnes sont tantôt du doublon à usage prticulier tantôt des grands vides. Pourquoi les intégrer dabs ce type de requêtes  ?  \n",
    "  \n",
    "  \n",
    "Pour enrtainer les modèles de Machine Learning à classer du texte par exemple, il faut un jeu d'entrainement dit 'lablélisé' servant de base d'apprentissage et de référence pour corriger l'apprentissage en cours. Il n'y aucune feature 'corresponding SKILL' ou 'corresponding JOBS' pour servir de 'cible'. Il faudra soit lableliser à la main ... soit touver une autre solution (Non supervisé? Semi supervisé?\n",
    "  \n",
    "  \n",
    "Mon tuteur n'etait pas,  à mon grnad regret, ni développeur, ni 'connaisseur' d'Intelligences Artificielles\n",
    "  \n",
    "  \n",
    "La gestion d'Orange Learning est divisée entre plusieurs directions ce ui cause parfois des conflits et entraine arfois du gaspillage de temps et d'énerie\n",
    "  \n",
    "  \n",
    "Ce qui fait penser aux aspects politiques inévitables dans des strctures ausssi grande mais l) aussi, temps, energie, gaspillage"
   ]
  },
  {
   "cell_type": "code",
   "execution_count": null,
   "metadata": {},
   "outputs": [],
   "source": []
  }
 ],
 "metadata": {
  "celltoolbar": "Tags",
  "hide_input": false,
  "kernelspec": {
   "display_name": "Python 3",
   "language": "python",
   "name": "python3"
  },
  "language_info": {
   "codemirror_mode": {
    "name": "ipython",
    "version": 3
   },
   "file_extension": ".py",
   "mimetype": "text/x-python",
   "name": "python",
   "nbconvert_exporter": "python",
   "pygments_lexer": "ipython3",
   "version": "3.8.5"
  },
  "latex_envs": {
   "LaTeX_envs_menu_present": true,
   "autoclose": true,
   "autocomplete": true,
   "bibliofile": "biblio.bib",
   "cite_by": "apalike",
   "current_citInitial": 1,
   "eqLabelWithNumbers": true,
   "eqNumInitial": 1,
   "hotkeys": {
    "equation": "Ctrl-E",
    "itemize": "Ctrl-I"
   },
   "labels_anchors": false,
   "latex_user_defs": false,
   "report_style_numbering": false,
   "user_envs_cfg": false
  },
  "toc": {
   "base_numbering": 1,
   "nav_menu": {},
   "number_sections": true,
   "sideBar": true,
   "skip_h1_title": false,
   "title_cell": "Table of Contents",
   "title_sidebar": "Contents",
   "toc_cell": false,
   "toc_position": {
    "height": "calc(100% - 180px)",
    "left": "10px",
    "top": "150px",
    "width": "243px"
   },
   "toc_section_display": true,
   "toc_window_display": false
  },
  "varInspector": {
   "cols": {
    "lenName": 16,
    "lenType": 16,
    "lenVar": 40
   },
   "kernels_config": {
    "python": {
     "delete_cmd_postfix": "",
     "delete_cmd_prefix": "del ",
     "library": "var_list.py",
     "varRefreshCmd": "print(var_dic_list())"
    },
    "r": {
     "delete_cmd_postfix": ") ",
     "delete_cmd_prefix": "rm(",
     "library": "var_list.r",
     "varRefreshCmd": "cat(var_dic_list()) "
    }
   },
   "types_to_exclude": [
    "module",
    "function",
    "builtin_function_or_method",
    "instance",
    "_Feature"
   ],
   "window_display": false
  }
 },
 "nbformat": 4,
 "nbformat_minor": 4
}
